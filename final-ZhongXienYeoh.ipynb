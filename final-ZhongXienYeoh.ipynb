{
 "cells": [
  {
   "cell_type": "markdown",
   "metadata": {},
   "source": [
    "# Connecting Workspace and Creating Experiment"
   ]
  },
  {
   "cell_type": "code",
   "execution_count": 1,
   "metadata": {},
   "outputs": [
    {
     "name": "stdout",
     "output_type": "stream",
     "text": [
      "Azure ML SDK Version:  1.7.0\n",
      "msa-practice\taustraliaeast\tmsa-practice\n"
     ]
    }
   ],
   "source": [
    "import azureml.core\n",
    "from azureml.core import Workspace\n",
    "ws = Workspace.from_config()\n",
    "\n",
    "print(\"Azure ML SDK Version: \", azureml.core.VERSION)\n",
    "print(ws.name, ws.location, ws.resource_group, sep='\\t')"
   ]
  },
  {
   "cell_type": "code",
   "execution_count": 2,
   "metadata": {},
   "outputs": [],
   "source": [
    "from azureml.core import Experiment\n",
    "\n",
    "exp_name = \"clickbait\"\n",
    "experiment = Experiment(workspace=ws, name=exp_name)"
   ]
  },
  {
   "cell_type": "markdown",
   "metadata": {},
   "source": [
    "# Load Data and Preprocessing"
   ]
  },
  {
   "cell_type": "markdown",
   "metadata": {},
   "source": [
    "Load dataset from \"clickbait_data.csv\" - contains 32000 titles of articles, each assigned a binary label indicating whether it is clickbait (0: not clickbait, 1: clickbait). Each category hsa 16000 titles. Verify that there are no missing values in dataset. Then, preprocess each line by converting each line to lowercase, strip all punctuation, and replace numbers with a identifier."
   ]
  },
  {
   "cell_type": "code",
   "execution_count": 3,
   "metadata": {},
   "outputs": [
    {
     "name": "stdout",
     "output_type": "stream",
     "text": [
      "Index(['headline', 'clickbait'], dtype='object')\n",
      "Empty values:\n",
      "headline     0\n",
      "clickbait    0\n",
      "dtype: int64\n"
     ]
    }
   ],
   "source": [
    "import pandas as pd\n",
    "import numpy as np\n",
    "\n",
    "df = pd.read_csv(\"clickbait_data.csv\")\n",
    "print(df.columns)\n",
    "df.head(10)\n",
    "\n",
    "# Check for NA values - none found\n",
    "print(\"Empty values:\")\n",
    "print(df.isnull().sum())"
   ]
  },
  {
   "cell_type": "code",
   "execution_count": 4,
   "metadata": {},
   "outputs": [
    {
     "data": {
      "text/html": [
       "<div>\n",
       "<style scoped>\n",
       "    .dataframe tbody tr th:only-of-type {\n",
       "        vertical-align: middle;\n",
       "    }\n",
       "\n",
       "    .dataframe tbody tr th {\n",
       "        vertical-align: top;\n",
       "    }\n",
       "\n",
       "    .dataframe thead th {\n",
       "        text-align: right;\n",
       "    }\n",
       "</style>\n",
       "<table border=\"1\" class=\"dataframe\">\n",
       "  <thead>\n",
       "    <tr style=\"text-align: right;\">\n",
       "      <th></th>\n",
       "      <th>headline</th>\n",
       "      <th>clickbait</th>\n",
       "    </tr>\n",
       "  </thead>\n",
       "  <tbody>\n",
       "    <tr>\n",
       "      <th>0</th>\n",
       "      <td>should i get bings</td>\n",
       "      <td>1</td>\n",
       "    </tr>\n",
       "    <tr>\n",
       "      <th>1</th>\n",
       "      <td>which tv female friend group do you belong in</td>\n",
       "      <td>1</td>\n",
       "    </tr>\n",
       "    <tr>\n",
       "      <th>2</th>\n",
       "      <td>the new star wars the force awakens trailer is...</td>\n",
       "      <td>1</td>\n",
       "    </tr>\n",
       "    <tr>\n",
       "      <th>3</th>\n",
       "      <td>this vine of new york on celebrity big brother...</td>\n",
       "      <td>1</td>\n",
       "    </tr>\n",
       "    <tr>\n",
       "      <th>4</th>\n",
       "      <td>a couple did a stunning photo shoot with their...</td>\n",
       "      <td>1</td>\n",
       "    </tr>\n",
       "    <tr>\n",
       "      <th>5</th>\n",
       "      <td>how to flirt with queer girls without making a...</td>\n",
       "      <td>1</td>\n",
       "    </tr>\n",
       "    <tr>\n",
       "      <th>6</th>\n",
       "      <td>num cute things to distract from your awkward ...</td>\n",
       "      <td>1</td>\n",
       "    </tr>\n",
       "    <tr>\n",
       "      <th>7</th>\n",
       "      <td>if disney princesses were from florida</td>\n",
       "      <td>1</td>\n",
       "    </tr>\n",
       "    <tr>\n",
       "      <th>8</th>\n",
       "      <td>whats a quote or lyric that best describes you...</td>\n",
       "      <td>1</td>\n",
       "    </tr>\n",
       "    <tr>\n",
       "      <th>9</th>\n",
       "      <td>natalie dormer and sam claflin play a game to ...</td>\n",
       "      <td>1</td>\n",
       "    </tr>\n",
       "  </tbody>\n",
       "</table>\n",
       "</div>"
      ],
      "text/plain": [
       "                                            headline  clickbait\n",
       "0                                 should i get bings          1\n",
       "1      which tv female friend group do you belong in          1\n",
       "2  the new star wars the force awakens trailer is...          1\n",
       "3  this vine of new york on celebrity big brother...          1\n",
       "4  a couple did a stunning photo shoot with their...          1\n",
       "5  how to flirt with queer girls without making a...          1\n",
       "6  num cute things to distract from your awkward ...          1\n",
       "7             if disney princesses were from florida          1\n",
       "8  whats a quote or lyric that best describes you...          1\n",
       "9  natalie dormer and sam claflin play a game to ...          1"
      ]
     },
     "execution_count": 4,
     "metadata": {},
     "output_type": "execute_result"
    }
   ],
   "source": [
    "def process(line):\n",
    "    import re, string\n",
    "    \n",
    "    #To lowercase\n",
    "    line = line.lower()\n",
    "    \n",
    "    # Remove punctuation\n",
    "    line = line.translate(line.maketrans('','', string.punctuation))\n",
    "    \n",
    "    # Replace digits\n",
    "    line = re.sub('\\d+', 'num', line)\n",
    "    \n",
    "    return line\n",
    "\n",
    "# Preprocess each line\n",
    "for (idx, (headline, _)) in df.iterrows():\n",
    "    newline = process(headline)\n",
    "    df.iloc[idx, 0] = newline\n",
    "\n",
    "df.head(10)"
   ]
  },
  {
   "cell_type": "markdown",
   "metadata": {},
   "source": [
    "Split dataset into 80% training data and 20% validation data"
   ]
  },
  {
   "cell_type": "code",
   "execution_count": 5,
   "metadata": {},
   "outputs": [
    {
     "name": "stdout",
     "output_type": "stream",
     "text": [
      "                                                headline\n",
      "4806   chris pratt and jennifer lawrence called anna ...\n",
      "15852  num fred and george weasley moments thatll mak...\n",
      "27130  amazon dips into memory hole to retrieve orwel...\n",
      "2098   num amazing gifts for anyone who spends most o...\n",
      "26733    brand names live on after the stores are closed\n",
      "4868   which harry potter character should you marry ...\n",
      "9301   this dude quit his job to train fulltime to br...\n",
      "12152  num times eddie redmayne was the most magical ...\n",
      "14127  these drawings perfectly sum up your relations...\n",
      "16631  keeping pitchers under thumb at world baseball...\n",
      "                                                headline\n",
      "2727   num things every college student should know a...\n",
      "18073          former rebel becomes president of burundi\n",
      "25565           burris says audiotape confirms innocence\n",
      "8022   nums best news bloopers are here and theyre ou...\n",
      "16365        obama defends agenda as more than recession\n",
      "7553       what does your taste in dessert say about you\n",
      "22792  jenny li and thomas dold win the num taipei nu...\n",
      "8627    the ultimate superman moral decision making quiz\n",
      "9617   the creator of master of none thanked straight...\n",
      "8581   tell us the funniest reason youve skipped a wo...\n"
     ]
    }
   ],
   "source": [
    "from sklearn.model_selection import train_test_split\n",
    "\n",
    "df_x = df.copy()\n",
    "df_y = df_x.pop('clickbait')\n",
    "X_train, X_test, y_train, y_test = train_test_split(df_x, df_y, test_size=0.2)\n",
    "\n",
    "print(X_train[0:10])\n",
    "print(X_test[0:10])\n",
    "\n",
    "# Convert dataframe to numpy array\n",
    "X_train_original = np.squeeze(X_train.values)\n",
    "X_test_original = np.squeeze(X_test.values)\n",
    "y_train = y_train.values\n",
    "y_test = y_test.values"
   ]
  },
  {
   "cell_type": "markdown",
   "metadata": {},
   "source": [
    "# Training Model"
   ]
  },
  {
   "cell_type": "markdown",
   "metadata": {},
   "source": [
    "Train a fully-connected 3 layer neural network with Adam optimizer."
   ]
  },
  {
   "cell_type": "code",
   "execution_count": 6,
   "metadata": {},
   "outputs": [],
   "source": [
    "def create_model(top_words, title_length, dr):\n",
    "    from keras.models import Sequential\n",
    "    from keras.layers import Dense, Dropout\n",
    "    from keras.layers.embeddings import Embedding\n",
    "    from keras.layers import Flatten\n",
    "\n",
    "    embedding_vector_length = 32\n",
    "    model = Sequential()\n",
    "    model.add(Embedding(top_words, embedding_vector_length, input_length=title_length))\n",
    "    model.add(Flatten())\n",
    "    model.add(Dense(16, activation='relu'))\n",
    "    model.add(Dropout(dr))\n",
    "    model.add(Dense(16, activation='relu'))\n",
    "    model.add(Dropout(dr))\n",
    "    model.add(Dense(1, activation='sigmoid'))\n",
    "    model.compile(loss='binary_crossentropy',optimizer='adam', metrics=['accuracy'])\n",
    "    print(model.summary())\n",
    "    \n",
    "    return model"
   ]
  },
  {
   "cell_type": "markdown",
   "metadata": {},
   "source": [
    "Extract most common words and convert titles into numeric data"
   ]
  },
  {
   "cell_type": "code",
   "execution_count": 7,
   "metadata": {},
   "outputs": [
    {
     "name": "stderr",
     "output_type": "stream",
     "text": [
      "Using TensorFlow backend.\n"
     ]
    },
    {
     "name": "stdout",
     "output_type": "stream",
     "text": [
      "Model: \"sequential_1\"\n",
      "_________________________________________________________________\n",
      "Layer (type)                 Output Shape              Param #   \n",
      "=================================================================\n",
      "embedding_1 (Embedding)      (None, 20, 32)            320000    \n",
      "_________________________________________________________________\n",
      "flatten_1 (Flatten)          (None, 640)               0         \n",
      "_________________________________________________________________\n",
      "dense_1 (Dense)              (None, 16)                10256     \n",
      "_________________________________________________________________\n",
      "dropout_1 (Dropout)          (None, 16)                0         \n",
      "_________________________________________________________________\n",
      "dense_2 (Dense)              (None, 16)                272       \n",
      "_________________________________________________________________\n",
      "dropout_2 (Dropout)          (None, 16)                0         \n",
      "_________________________________________________________________\n",
      "dense_3 (Dense)              (None, 1)                 17        \n",
      "=================================================================\n",
      "Total params: 330,545\n",
      "Trainable params: 330,545\n",
      "Non-trainable params: 0\n",
      "_________________________________________________________________\n",
      "None\n",
      "Training: \n",
      "[[914, 2884, 10, 765, 1345, 646, 2532, 6558, 19, 46, 113, 339], [2, 2110, 10, 887, 4779, 281, 260, 37, 7, 199, 1159, 10, 301, 4, 490], [1608, 4780, 85, 1986, 2111, 3, 6559, 1, 1290], [2, 268, 200, 9, 210, 25, 6560, 60, 6, 46, 70, 8220], [1609, 499, 282, 11, 36, 5, 1987, 13, 1882]] \n",
      "\n",
      " Testing: \n",
      "[[2, 27, 77, 295, 618, 39, 35, 24, 4263, 17, 807, 825], [144, 1952, 623, 81, 6, 5765], [7634, 93, 1, 1901, 1], [147, 58, 393, 1, 13, 288, 10, 1042, 56, 6, 863], [109, 2392, 5360, 30, 59, 145, 936]]\n",
      "\n"
     ]
    },
    {
     "name": "stderr",
     "output_type": "stream",
     "text": [
      "/anaconda/envs/azureml_py36/lib/python3.6/site-packages/tensorflow_core/python/framework/indexed_slices.py:433: UserWarning: Converting sparse IndexedSlices to a dense Tensor of unknown shape. This may consume a large amount of memory.\n",
      "  \"Converting sparse IndexedSlices to a dense Tensor of unknown shape. \"\n"
     ]
    },
    {
     "name": "stdout",
     "output_type": "stream",
     "text": [
      "Train on 25600 samples, validate on 6400 samples\n",
      "Epoch 1/5\n",
      "25600/25600 [==============================] - 1s 35us/step - loss: 0.2923 - accuracy: 0.8789 - val_loss: 0.0747 - val_accuracy: 0.9722\n",
      "Epoch 2/5\n",
      "25600/25600 [==============================] - 1s 26us/step - loss: 0.0457 - accuracy: 0.9852 - val_loss: 0.0581 - val_accuracy: 0.9802\n",
      "Epoch 3/5\n",
      "25600/25600 [==============================] - 1s 26us/step - loss: 0.0170 - accuracy: 0.9955 - val_loss: 0.0584 - val_accuracy: 0.9783\n",
      "Epoch 4/5\n",
      "25600/25600 [==============================] - 1s 25us/step - loss: 0.0067 - accuracy: 0.9988 - val_loss: 0.0650 - val_accuracy: 0.9783\n",
      "Epoch 5/5\n",
      "25600/25600 [==============================] - 1s 24us/step - loss: 0.0028 - accuracy: 0.9996 - val_loss: 0.0682 - val_accuracy: 0.9778\n"
     ]
    }
   ],
   "source": [
    "# Extract most common words\n",
    "from keras.preprocessing.text import Tokenizer, one_hot\n",
    "from keras.preprocessing import sequence\n",
    "\n",
    "top_words = 10000\n",
    "X_train = X_train_original.copy()\n",
    "X_test = X_test_original.copy()\n",
    "\n",
    "title_length = 20\n",
    "\n",
    "model = create_model(top_words, title_length, 0.0)\n",
    "tokenizer = Tokenizer(num_words=top_words, filters='', oov_token=True)\n",
    "tokenizer.fit_on_texts(X_train)\n",
    "\n",
    "X_train = tokenizer.texts_to_sequences(X_train)\n",
    "X_test = tokenizer.texts_to_sequences(X_test)\n",
    "\n",
    "print(\"Training: \\n{} \\n\\n Testing: \\n{}\\n\".format(X_train[0:5], X_test[0:5]))\n",
    "\n",
    "# Convert string title to sequences\n",
    "X_train = sequence.pad_sequences(X_train, maxlen=title_length)\n",
    "X_test = sequence.pad_sequences(X_test, maxlen=title_length)\n",
    "history = model.fit(X_train, y_train, validation_data=(X_test, y_test), epochs=5, batch_size=128)\n",
    "\n",
    "if (not os.path.exists(\"models\")): os.mkdir(\"models/\")\n",
    "    \n",
    "model_name = \"model_topwords_\" + str(top_words)\n",
    "model.save(model_name)"
   ]
  },
  {
   "cell_type": "markdown",
   "metadata": {},
   "source": [
    "# Evaluating Model"
   ]
  },
  {
   "cell_type": "markdown",
   "metadata": {},
   "source": [
    "Visualising metrics: Loss and accuracy curves, confusion matrix, and precision-recall scores"
   ]
  },
  {
   "cell_type": "code",
   "execution_count": 8,
   "metadata": {},
   "outputs": [
    {
     "data": {
      "image/png": "[encoded data removed]",
      "text/plain": [
       "<Figure size 432x288 with 1 Axes>"
      ]
     },
     "metadata": {},
     "output_type": "display_data"
    }
   ],
   "source": [
    "import matplotlib.pyplot as plt\n",
    "import seaborn as sns\n",
    "%matplotlib inline\n",
    "\n",
    "sns.set()\n",
    "\n",
    "acc = history.history['accuracy']\n",
    "val_acc = history.history['val_accuracy']\n",
    "epochs = range(1, len(acc)+1)\n",
    "\n",
    "plt.plot(epochs, acc, '-', label='Training accuracy')\n",
    "plt.plot(epochs, val_acc, ':', label='Validation accuracy')\n",
    "plt.legend()\n",
    "plt.title(\"Accuracy curves\")\n",
    "plt.show()"
   ]
  },
  {
   "cell_type": "code",
   "execution_count": 9,
   "metadata": {},
   "outputs": [
    {
     "data": {
      "image/png": "[encoded data removed]",
      "text/plain": [
       "<Figure size 432x288 with 1 Axes>"
      ]
     },
     "metadata": {},
     "output_type": "display_data"
    }
   ],
   "source": [
    "loss = history.history['loss']\n",
    "val_loss = history.history['val_loss']\n",
    "\n",
    "plt.plot(epochs, loss, '-', label=\"Training loss\")\n",
    "plt.plot(epochs, val_loss, '-', label=\"Validation loss\")\n",
    "plt.legend()\n",
    "plt.title(\"Loss curves\")\n",
    "plt.show()"
   ]
  },
  {
   "cell_type": "code",
   "execution_count": 11,
   "metadata": {},
   "outputs": [
    {
     "name": "stdout",
     "output_type": "stream",
     "text": [
      "[[3128   79]\n",
      " [  63 3130]]\n",
      "              precision    recall  f1-score   support\n",
      "\n",
      "       False       0.98      0.98      0.98      3207\n",
      "        True       0.98      0.98      0.98      3193\n",
      "\n",
      "   micro avg       0.98      0.98      0.98      6400\n",
      "   macro avg       0.98      0.98      0.98      6400\n",
      "weighted avg       0.98      0.98      0.98      6400\n",
      "\n"
     ]
    }
   ],
   "source": [
    "from sklearn.metrics import classification_report\n",
    "from sklearn.metrics import confusion_matrix\n",
    "\n",
    "y_pred = (model.predict(X_test) > 0.5)\n",
    "cm = confusion_matrix(y_pred, y_test)\n",
    "crep = classification_report(y_pred, y_test)\n",
    "\n",
    "print(cm)\n",
    "print(crep)"
   ]
  },
  {
   "cell_type": "code",
   "execution_count": 12,
   "metadata": {},
   "outputs": [
    {
     "name": "stdout",
     "output_type": "stream",
     "text": [
      "Accuracy: 97.78%\n"
     ]
    }
   ],
   "source": [
    "scores = model.evaluate(X_test, y_test, verbose=0)\n",
    "print(\"Accuracy: %.2f%%\" % (scores[1] * 100))"
   ]
  },
  {
   "cell_type": "markdown",
   "metadata": {},
   "source": [
    "# Making Predictions"
   ]
  },
  {
   "cell_type": "code",
   "execution_count": 13,
   "metadata": {},
   "outputs": [],
   "source": [
    "def preprocess_line(text, tk):\n",
    "    print(text)\n",
    "    text = process(text)\n",
    "    text = tokenizer.texts_to_sequences([text])\n",
    "    #print(\"Tokenised text: \", text)\n",
    "    text = sequence.pad_sequences(text, maxlen=title_length)\n",
    "    return text\n",
    "\n",
    "def predict_input(text):\n",
    "    prediction = model.predict(preprocess_line(text, tokenizer))\n",
    "    output = \"Yes\" if (prediction > 0.5) else \"No\"\n",
    "    print(\"Likelihood of title clickbait: {}%\".format(prediction*100))\n",
    "    print(\"Is it clickbait? {}\".format(output))"
   ]
  },
  {
   "cell_type": "markdown",
   "metadata": {},
   "source": [
    "A couple of examples:"
   ]
  },
  {
   "cell_type": "code",
   "execution_count": 14,
   "metadata": {},
   "outputs": [
    {
     "name": "stdout",
     "output_type": "stream",
     "text": [
      "21 More Movies That People Say Are Just Plain Better Than The Books They Were Based On\n",
      "Likelihood of title clickbait: [[99.97589]]%\n",
      "Is it clickbait? Yes\n",
      "Deputy Chief Medical Officer says Victorian coronavirus outbreak is 'not a second wave'\n",
      "Likelihood of title clickbait: [[0.0019204]]%\n",
      "Is it clickbait? No\n"
     ]
    }
   ],
   "source": [
    "ex1 = r\"21 More Movies That People Say Are Just Plain Better Than The Books They Were Based On\"\n",
    "ex2 = r\"Deputy Chief Medical Officer says Victorian coronavirus outbreak is 'not a second wave'\"\n",
    "\n",
    "predict_input(ex1)\n",
    "predict_input(ex2)"
   ]
  },
  {
   "cell_type": "markdown",
   "metadata": {},
   "source": [
    "Try it out with your own title:"
   ]
  },
  {
   "cell_type": "code",
   "execution_count": 16,
   "metadata": {},
   "outputs": [
    {
     "name": "stdin",
     "output_type": "stream",
     "text": [
      "Enter a title:  Deputy Chief Medical Officer says Victorian coronavirus outbreak is 'not a second wave'\n"
     ]
    },
    {
     "name": "stdout",
     "output_type": "stream",
     "text": [
      "Deputy Chief Medical Officer says Victorian coronavirus outbreak is 'not a second wave'\n",
      "Likelihood of title clickbait: [[0.0019204]]%\n",
      "Is it clickbait? No\n"
     ]
    }
   ],
   "source": [
    "text = input(\"Enter a title: \")\n",
    "predict_input(text)"
   ]
  },
  {
   "cell_type": "code",
   "execution_count": null,
   "metadata": {},
   "outputs": [],
   "source": []
  }
 ],
 "metadata": {
  "kernelspec": {
   "display_name": "Python 3.6 - AzureML",
   "language": "python",
   "name": "python3-azureml"
  },
  "language_info": {
   "codemirror_mode": {
    "name": "ipython",
    "version": 3
   },
   "file_extension": ".py",
   "mimetype": "text/x-python",
   "name": "python",
   "nbconvert_exporter": "python",
   "pygments_lexer": "ipython3",
   "version": "3.6.9"
  },
  "nteract": {
   "version": "nteract-front-end@1.0.0"
  }
 },
 "nbformat": 4,
 "nbformat_minor": 4
}
