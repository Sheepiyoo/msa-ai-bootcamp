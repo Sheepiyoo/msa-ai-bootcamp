{
 "cells": [
  {
   "cell_type": "markdown",
   "metadata": {},
   "source": [
    "# Connecting Workspace and Creating Experiment"
   ]
  },
  {
   "cell_type": "code",
   "execution_count": 1,
   "metadata": {},
   "outputs": [
    {
     "name": "stdout",
     "output_type": "stream",
     "text": [
      "Azure ML SDK Version:  1.7.0\n",
      "msa-practice\taustraliaeast\tmsa-practice\n"
     ]
    }
   ],
   "source": [
    "import azureml.core\n",
    "from azureml.core import Workspace\n",
    "ws = Workspace.from_config()\n",
    "\n",
    "print(\"Azure ML SDK Version: \", azureml.core.VERSION)\n",
    "print(ws.name, ws.location, ws.resource_group, sep='\\t')"
   ]
  },
  {
   "cell_type": "code",
   "execution_count": 2,
   "metadata": {},
   "outputs": [],
   "source": [
    "from azureml.core import Experiment\n",
    "\n",
    "exp_name = \"clickbait\"\n",
    "experiment = Experiment(workspace=ws, name=exp_name)"
   ]
  },
  {
   "cell_type": "markdown",
   "metadata": {},
   "source": [
    "# Load Data and Preprocessing"
   ]
  },
  {
   "cell_type": "markdown",
   "metadata": {},
   "source": [
    "Load dataset from \"clickbait_data.csv\" - contains 32000 titles of articles, each assigned a binary label indicating whether it is clickbait (0: not clickbait, 1: clickbait). Each category hsa 16000 titles. Verify that there are no missing values in dataset. Then, preprocess each line by converting each line to lowercase, strip all punctuation, and replace numbers with a identifier."
   ]
  },
  {
   "cell_type": "code",
   "execution_count": 3,
   "metadata": {},
   "outputs": [
    {
     "name": "stdout",
     "output_type": "stream",
     "text": [
      "Index(['headline', 'clickbait'], dtype='object')\n",
      "Empty values:\n",
      "headline     0\n",
      "clickbait    0\n",
      "dtype: int64\n"
     ]
    }
   ],
   "source": [
    "import pandas as pd\n",
    "import numpy as np\n",
    "\n",
    "df = pd.read_csv(\"clickbait_data.csv\")\n",
    "print(df.columns)\n",
    "df.head(10)\n",
    "\n",
    "# Check for NA values - none found\n",
    "print(\"Empty values:\")\n",
    "print(df.isnull().sum())"
   ]
  },
  {
   "cell_type": "code",
   "execution_count": 4,
   "metadata": {},
   "outputs": [
    {
     "data": {
      "text/html": [
       "<div>\n",
       "<style scoped>\n",
       "    .dataframe tbody tr th:only-of-type {\n",
       "        vertical-align: middle;\n",
       "    }\n",
       "\n",
       "    .dataframe tbody tr th {\n",
       "        vertical-align: top;\n",
       "    }\n",
       "\n",
       "    .dataframe thead th {\n",
       "        text-align: right;\n",
       "    }\n",
       "</style>\n",
       "<table border=\"1\" class=\"dataframe\">\n",
       "  <thead>\n",
       "    <tr style=\"text-align: right;\">\n",
       "      <th></th>\n",
       "      <th>headline</th>\n",
       "      <th>clickbait</th>\n",
       "    </tr>\n",
       "  </thead>\n",
       "  <tbody>\n",
       "    <tr>\n",
       "      <th>0</th>\n",
       "      <td>should i get bings</td>\n",
       "      <td>1</td>\n",
       "    </tr>\n",
       "    <tr>\n",
       "      <th>1</th>\n",
       "      <td>which tv female friend group do you belong in</td>\n",
       "      <td>1</td>\n",
       "    </tr>\n",
       "    <tr>\n",
       "      <th>2</th>\n",
       "      <td>the new star wars the force awakens trailer is...</td>\n",
       "      <td>1</td>\n",
       "    </tr>\n",
       "    <tr>\n",
       "      <th>3</th>\n",
       "      <td>this vine of new york on celebrity big brother...</td>\n",
       "      <td>1</td>\n",
       "    </tr>\n",
       "    <tr>\n",
       "      <th>4</th>\n",
       "      <td>a couple did a stunning photo shoot with their...</td>\n",
       "      <td>1</td>\n",
       "    </tr>\n",
       "    <tr>\n",
       "      <th>5</th>\n",
       "      <td>how to flirt with queer girls without making a...</td>\n",
       "      <td>1</td>\n",
       "    </tr>\n",
       "    <tr>\n",
       "      <th>6</th>\n",
       "      <td>num cute things to distract from your awkward ...</td>\n",
       "      <td>1</td>\n",
       "    </tr>\n",
       "    <tr>\n",
       "      <th>7</th>\n",
       "      <td>if disney princesses were from florida</td>\n",
       "      <td>1</td>\n",
       "    </tr>\n",
       "    <tr>\n",
       "      <th>8</th>\n",
       "      <td>whats a quote or lyric that best describes you...</td>\n",
       "      <td>1</td>\n",
       "    </tr>\n",
       "    <tr>\n",
       "      <th>9</th>\n",
       "      <td>natalie dormer and sam claflin play a game to ...</td>\n",
       "      <td>1</td>\n",
       "    </tr>\n",
       "  </tbody>\n",
       "</table>\n",
       "</div>"
      ],
      "text/plain": [
       "                                            headline  clickbait\n",
       "0                                 should i get bings          1\n",
       "1      which tv female friend group do you belong in          1\n",
       "2  the new star wars the force awakens trailer is...          1\n",
       "3  this vine of new york on celebrity big brother...          1\n",
       "4  a couple did a stunning photo shoot with their...          1\n",
       "5  how to flirt with queer girls without making a...          1\n",
       "6  num cute things to distract from your awkward ...          1\n",
       "7             if disney princesses were from florida          1\n",
       "8  whats a quote or lyric that best describes you...          1\n",
       "9  natalie dormer and sam claflin play a game to ...          1"
      ]
     },
     "execution_count": 4,
     "metadata": {},
     "output_type": "execute_result"
    }
   ],
   "source": [
    "def process(line):\n",
    "    import re, string\n",
    "    \n",
    "    #To lowercase\n",
    "    line = line.lower()\n",
    "    \n",
    "    # Remove punctuation\n",
    "    line = line.translate(line.maketrans('','', string.punctuation))\n",
    "    \n",
    "    # Replace digits\n",
    "    line = re.sub('\\d+', 'num', line)\n",
    "    \n",
    "    return line\n",
    "\n",
    "# Preprocess each line\n",
    "for (idx, (headline, _)) in df.iterrows():\n",
    "    newline = process(headline)\n",
    "    df.iloc[idx, 0] = newline\n",
    "\n",
    "df.head(10)"
   ]
  },
  {
   "cell_type": "markdown",
   "metadata": {},
   "source": [
    "Split dataset into 80% training data and 20% validation data"
   ]
  },
  {
   "cell_type": "code",
   "execution_count": 5,
   "metadata": {},
   "outputs": [
    {
     "name": "stdout",
     "output_type": "stream",
     "text": [
      "                                                headline\n",
      "8991       men wore makeup for a week and looked glam af\n",
      "24900  samples being taken from poultry farms in east...\n",
      "264    which male actor should you get for christmas ...\n",
      "8529                      are you more target or walmart\n",
      "17408  num of secondary school students in ireland dr...\n",
      "26665      student set for sentencing in failed bombings\n",
      "29292                china will reopen tibet to tourists\n",
      "8022   nums best news bloopers are here and theyre ou...\n",
      "12604           british people guess posh crisp flavours\n",
      "9318   num cookie lyon greeting cards for every occasion\n",
      "                                                headline\n",
      "6719           are you a sane person in a world gone mad\n",
      "3595   the us mens gymnastics team is so hot its prob...\n",
      "16605               new report details strain on us army\n",
      "30206     ten children killed in estonian orphanage fire\n",
      "12230            num pets with no damn respect for books\n",
      "9712   whitney port from the hills is still as shocke...\n",
      "28833  mario draghi succeeds antonio fazio as bank of...\n",
      "22305  fast food chain mcdonald’s set to open up num ...\n",
      "20654  stunning profit at goldman revives gilded pay ...\n",
      "28250  woman blows herself up in iraq over num casual...\n"
     ]
    }
   ],
   "source": [
    "from sklearn.model_selection import train_test_split\n",
    "\n",
    "df_x = df.copy()\n",
    "df_y = df_x.pop('clickbait')\n",
    "X_train, X_test, y_train, y_test = train_test_split(df_x, df_y, test_size=0.2)\n",
    "\n",
    "print(X_train[0:10])\n",
    "print(X_test[0:10])\n",
    "\n",
    "# Convert dataframe to numpy array\n",
    "X_train_original = np.squeeze(X_train.values)\n",
    "X_test_original = np.squeeze(X_test.values)\n",
    "y_train = y_train.values\n",
    "y_test = y_test.values"
   ]
  },
  {
   "cell_type": "markdown",
   "metadata": {},
   "source": [
    "# Training Model"
   ]
  },
  {
   "cell_type": "markdown",
   "metadata": {},
   "source": [
    "Train a fully-connected 3 layer neural network with Adam optimizer."
   ]
  },
  {
   "cell_type": "code",
   "execution_count": 51,
   "metadata": {},
   "outputs": [],
   "source": [
    "def create_model(top_words, title_length, dr):\n",
    "    from keras.models import Sequential\n",
    "    from keras.layers import Dense, Dropout\n",
    "    from keras.layers.embeddings import Embedding\n",
    "    from keras.layers import Flatten\n",
    "\n",
    "    embedding_vector_length = 32\n",
    "    model = Sequential()\n",
    "    model.add(Embedding(top_words, embedding_vector_length, input_length=title_length))\n",
    "    model.add(Flatten())\n",
    "    model.add(Dense(16, activation='relu'))\n",
    "    model.add(Dropout(dr))\n",
    "    model.add(Dense(16, activation='relu'))\n",
    "    model.add(Dropout(dr))\n",
    "    model.add(Dense(1, activation='sigmoid'))\n",
    "    model.compile(loss='binary_crossentropy',optimizer='adam', metrics=['accuracy'])\n",
    "    print(model.summary())\n",
    "    \n",
    "    return model"
   ]
  },
  {
   "cell_type": "markdown",
   "metadata": {},
   "source": [
    "Extract most common words and convert titles into numeric data"
   ]
  },
  {
   "cell_type": "code",
   "execution_count": 69,
   "metadata": {},
   "outputs": [
    {
     "name": "stdout",
     "output_type": "stream",
     "text": [
      "Model: \"sequential_18\"\n",
      "_________________________________________________________________\n",
      "Layer (type)                 Output Shape              Param #   \n",
      "=================================================================\n",
      "embedding_18 (Embedding)     (None, 20, 32)            320000    \n",
      "_________________________________________________________________\n",
      "flatten_18 (Flatten)         (None, 640)               0         \n",
      "_________________________________________________________________\n",
      "dense_50 (Dense)             (None, 16)                10256     \n",
      "_________________________________________________________________\n",
      "dropout_29 (Dropout)         (None, 16)                0         \n",
      "_________________________________________________________________\n",
      "dense_51 (Dense)             (None, 16)                272       \n",
      "_________________________________________________________________\n",
      "dropout_30 (Dropout)         (None, 16)                0         \n",
      "_________________________________________________________________\n",
      "dense_52 (Dense)             (None, 1)                 17        \n",
      "=================================================================\n",
      "Total params: 330,545\n",
      "Trainable params: 330,545\n",
      "Non-trainable params: 0\n",
      "_________________________________________________________________\n",
      "None\n",
      "Training: \n",
      "[[241, 1140, 275, 9, 8, 167, 10, 918, 8251, 362], [5549, 135, 1399, 21, 4766, 6608, 4, 1283, 2259, 9, 2403], [29, 1792, 814, 40, 7, 72, 9, 117, 41, 11, 5, 53, 1400, 6, 12, 220], [13, 7, 56, 1694, 60, 2726], [2, 6, 5550, 186, 604, 4, 858, 815, 51, 215, 5, 1606, 1]]\n",
      " Testing: \n",
      "[[13, 7, 8, 1, 327, 4, 8, 69, 2901, 2813], [5, 19, 2548, 1, 466, 14, 119, 303, 52, 6340], [22, 261, 1584, 4982, 11, 19, 776], [1060, 555, 75, 4, 8723, 1, 196], [2, 2312, 17, 100, 478, 1, 9, 363]]\n",
      "\n"
     ]
    },
    {
     "name": "stderr",
     "output_type": "stream",
     "text": [
      "/anaconda/envs/azureml_py36/lib/python3.6/site-packages/tensorflow_core/python/framework/indexed_slices.py:433: UserWarning: Converting sparse IndexedSlices to a dense Tensor of unknown shape. This may consume a large amount of memory.\n",
      "  \"Converting sparse IndexedSlices to a dense Tensor of unknown shape. \"\n"
     ]
    },
    {
     "name": "stdout",
     "output_type": "stream",
     "text": [
      "Train on 25600 samples, validate on 6400 samples\n",
      "Epoch 1/5\n",
      "25600/25600 [==============================] - 1s 27us/step - loss: 0.2548 - accuracy: 0.8895 - val_loss: 0.0765 - val_accuracy: 0.9725\n",
      "Epoch 2/5\n",
      "25600/25600 [==============================] - 1s 21us/step - loss: 0.0390 - accuracy: 0.9868 - val_loss: 0.0773 - val_accuracy: 0.9723\n",
      "Epoch 3/5\n",
      "25600/25600 [==============================] - 1s 21us/step - loss: 0.0127 - accuracy: 0.9968 - val_loss: 0.0732 - val_accuracy: 0.9762\n",
      "Epoch 4/5\n",
      "25600/25600 [==============================] - 1s 22us/step - loss: 0.0045 - accuracy: 0.9993 - val_loss: 0.0785 - val_accuracy: 0.9745\n",
      "Epoch 5/5\n",
      "25600/25600 [==============================] - 1s 20us/step - loss: 0.0019 - accuracy: 0.9998 - val_loss: 0.0835 - val_accuracy: 0.9752\n"
     ]
    }
   ],
   "source": [
    "# Extract most common words\n",
    "from keras.preprocessing.text import Tokenizer, one_hot\n",
    "from keras.preprocessing import sequence\n",
    "\n",
    "top_words = 10000\n",
    "X_train = X_train_original.copy()\n",
    "X_test = X_test_original.copy()\n",
    "\n",
    "title_length = 20\n",
    "\n",
    "model = create_model(top_words, title_length, 0.0)\n",
    "tokenizer = Tokenizer(num_words=top_words, filters='', oov_token=True)\n",
    "tokenizer.fit_on_texts(X_train)\n",
    "\n",
    "X_train = tokenizer.texts_to_sequences(X_train)\n",
    "X_test = tokenizer.texts_to_sequences(X_test)\n",
    "\n",
    "print(\"Training: \\n{} \\n\\n Testing: \\n{}\\n\".format(X_train[0:5], X_test[0:5]))\n",
    "\n",
    "# Convert string title to sequences\n",
    "X_train = sequence.pad_sequences(X_train, maxlen=title_length)\n",
    "X_test = sequence.pad_sequences(X_test, maxlen=title_length)\n",
    "history = model.fit(X_train, y_train, validation_data=(X_test, y_test), epochs=5, batch_size=128)\n",
    "\n",
    "if (not os.path.exists(\"models\")): os.mkdir(\"models/\")\n",
    "    \n",
    "model_name = \"model_topwords_\" + str(top_words)\n",
    "model.save(model_name)"
   ]
  },
  {
   "cell_type": "markdown",
   "metadata": {},
   "source": [
    "# Evaluating Model"
   ]
  },
  {
   "cell_type": "markdown",
   "metadata": {},
   "source": [
    "Visualising metrics - loss and accuracy curves, and confusion matrix"
   ]
  },
  {
   "cell_type": "code",
   "execution_count": 70,
   "metadata": {},
   "outputs": [
    {
     "data": {
      "image/png": "[encoded data removed]",
      "text/plain": [
       "<Figure size 432x288 with 1 Axes>"
      ]
     },
     "metadata": {},
     "output_type": "display_data"
    }
   ],
   "source": [
    "import matplotlib.pyplot as plt\n",
    "import seaborn as sns\n",
    "%matplotlib inline\n",
    "\n",
    "sns.set()\n",
    "\n",
    "acc = history.history['accuracy']\n",
    "val_acc = history.history['val_accuracy']\n",
    "epochs = range(1, len(acc)+1)\n",
    "\n",
    "plt.plot(epochs, acc, '-', label='Training accuracy')\n",
    "plt.plot(epochs, val_acc, ':', label='Validation accuracy')\n",
    "plt.legend()\n",
    "plt.title(\"Accuracy curves\")\n",
    "plt.show()"
   ]
  },
  {
   "cell_type": "code",
   "execution_count": 71,
   "metadata": {},
   "outputs": [
    {
     "data": {
      "image/png": "[encoded data removed]",
      "text/plain": [
       "<Figure size 432x288 with 1 Axes>"
      ]
     },
     "metadata": {},
     "output_type": "display_data"
    }
   ],
   "source": [
    "loss = history.history['loss']\n",
    "val_loss = history.history['val_loss']\n",
    "\n",
    "plt.plot(epochs, loss, '-', label=\"Training loss\")\n",
    "plt.plot(epochs, val_loss, '-', label=\"Validation loss\")\n",
    "plt.legend()\n",
    "plt.title(\"Loss curves\")\n",
    "plt.show()"
   ]
  },
  {
   "cell_type": "code",
   "execution_count": 72,
   "metadata": {},
   "outputs": [
    {
     "name": "stdout",
     "output_type": "stream",
     "text": [
      "[[3105   91]\n",
      " [  68 3136]]\n",
      "              precision    recall  f1-score   support\n",
      "\n",
      "       False       0.98      0.97      0.98      3196\n",
      "        True       0.97      0.98      0.98      3204\n",
      "\n",
      "   micro avg       0.98      0.98      0.98      6400\n",
      "   macro avg       0.98      0.98      0.98      6400\n",
      "weighted avg       0.98      0.98      0.98      6400\n",
      "\n"
     ]
    }
   ],
   "source": [
    "from sklearn.metrics import classification_report\n",
    "\n",
    "y_pred = (model.predict(X_test) > 0.5)\n",
    "cm = confusion_matrix(y_pred, y_test)\n",
    "crep = classification_report(y_pred, y_test)\n",
    "\n",
    "print(cm)\n",
    "print(crep)"
   ]
  },
  {
   "cell_type": "code",
   "execution_count": 73,
   "metadata": {},
   "outputs": [
    {
     "name": "stdout",
     "output_type": "stream",
     "text": [
      "Accuracy: 97.52%\n"
     ]
    }
   ],
   "source": [
    "scores = model.evaluate(X_test, y_test, verbose=0)\n",
    "print(\"Accuracy: %.2f%%\" % (scores[1] * 100))"
   ]
  },
  {
   "cell_type": "markdown",
   "metadata": {},
   "source": [
    "# Making Predictions"
   ]
  },
  {
   "cell_type": "markdown",
   "metadata": {},
   "source": [
    "Example predictions"
   ]
  },
  {
   "cell_type": "code",
   "execution_count": 85,
   "metadata": {},
   "outputs": [],
   "source": [
    "def preprocess_line(text, tk):\n",
    "    print(text)\n",
    "    text = process(text)\n",
    "    text = tokenizer.texts_to_sequences([text])\n",
    "    #print(\"Tokenised text: \", text)\n",
    "    text = sequence.pad_sequences(text, maxlen=title_length)\n",
    "    return text\n",
    "\n",
    "def predict_input(text):\n",
    "    prediction = model.predict(preprocess_line(text, tokenizer))\n",
    "    output = \"Yes\" if (prediction > 0.5) else \"No\"\n",
    "    print(\"Likelihood of title clickbait: {}%\".format(prediction*100))\n",
    "    print(\"Is it clickbait? {}\".format(output))"
   ]
  },
  {
   "cell_type": "code",
   "execution_count": 86,
   "metadata": {},
   "outputs": [
    {
     "name": "stdout",
     "output_type": "stream",
     "text": [
      "21 More Movies That People Say Are Just Plain Better Than The Books They Were Based On\n",
      "Likelihood of title clickbait: [[99.7574]]%\n",
      "Is it clickbait? Yes\n",
      "Deputy Chief Medical Officer says Victorian coronavirus outbreak is 'not a second wave'\n",
      "Likelihood of title clickbait: [[5.821718e-05]]%\n",
      "Is it clickbait? No\n"
     ]
    }
   ],
   "source": [
    "ex1 = r\"21 More Movies That People Say Are Just Plain Better Than The Books They Were Based On\"\n",
    "ex2 = r\"Deputy Chief Medical Officer says Victorian coronavirus outbreak is 'not a second wave'\"\n",
    "\n",
    "predict_input(ex1)\n",
    "predict_input(ex2)"
   ]
  },
  {
   "cell_type": "code",
   "execution_count": 87,
   "metadata": {},
   "outputs": [
    {
     "name": "stdin",
     "output_type": "stream",
     "text": [
      "Enter a title:  Deputy Chief Medical Officer says Victorian coronavirus outbreak is 'not a second wave'\n"
     ]
    },
    {
     "name": "stdout",
     "output_type": "stream",
     "text": [
      "Deputy Chief Medical Officer says Victorian coronavirus outbreak is 'not a second wave'\n",
      "Likelihood of title clickbait: [[5.821718e-05]]%\n",
      "Is it clickbait? No\n"
     ]
    }
   ],
   "source": [
    "text = input(\"Enter a title: \")\n",
    "predict_input(text)"
   ]
  },
  {
   "cell_type": "code",
   "execution_count": null,
   "metadata": {},
   "outputs": [],
   "source": []
  }
 ],
 "metadata": {
  "kernelspec": {
   "display_name": "Python 3.6 - AzureML",
   "language": "python",
   "name": "python3-azureml"
  },
  "language_info": {
   "codemirror_mode": {
    "name": "ipython",
    "version": 3
   },
   "file_extension": ".py",
   "mimetype": "text/x-python",
   "name": "python",
   "nbconvert_exporter": "python",
   "pygments_lexer": "ipython3",
   "version": "3.6.9"
  },
  "nteract": {
   "version": "nteract-front-end@1.0.0"
  }
 },
 "nbformat": 4,
 "nbformat_minor": 4
}
