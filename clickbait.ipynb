{
 "cells": [
  {
   "cell_type": "markdown",
   "metadata": {},
   "source": [
    "# Connecting Workspace and Creating Experiment"
   ]
  },
  {
   "cell_type": "code",
   "execution_count": 35,
   "metadata": {},
   "outputs": [
    {
     "name": "stdout",
     "output_type": "stream",
     "text": [
      "Azure ML SDK Version:  1.7.0\n",
      "msa-practice\taustraliaeast\tmsa-practice\n"
     ]
    }
   ],
   "source": [
    "import azureml.core\n",
    "from azureml.core import Workspace\n",
    "ws = Workspace.from_config()\n",
    "\n",
    "print(\"Azure ML SDK Version: \", azureml.core.VERSION)\n",
    "print(ws.name, ws.location, ws.resource_group, sep='\\t')"
   ]
  },
  {
   "cell_type": "code",
   "execution_count": 48,
   "metadata": {},
   "outputs": [],
   "source": [
    "from azureml.core import Experiment\n",
    "\n",
    "exp_name = \"clickbait\"\n",
    "\n",
    "experiment = Experiment(workspace=ws, name=exp_name)"
   ]
  },
  {
   "cell_type": "markdown",
   "metadata": {},
   "source": [
    "# Load Data and Preprocessing"
   ]
  },
  {
   "cell_type": "code",
   "execution_count": 170,
   "metadata": {},
   "outputs": [
    {
     "name": "stdout",
     "output_type": "stream",
     "text": [
      "Index(['headline', 'clickbait'], dtype='object')\n"
     ]
    },
    {
     "data": {
      "text/html": [
       "<div>\n",
       "<style scoped>\n",
       "    .dataframe tbody tr th:only-of-type {\n",
       "        vertical-align: middle;\n",
       "    }\n",
       "\n",
       "    .dataframe tbody tr th {\n",
       "        vertical-align: top;\n",
       "    }\n",
       "\n",
       "    .dataframe thead th {\n",
       "        text-align: right;\n",
       "    }\n",
       "</style>\n",
       "<table border=\"1\" class=\"dataframe\">\n",
       "  <thead>\n",
       "    <tr style=\"text-align: right;\">\n",
       "      <th></th>\n",
       "      <th>headline</th>\n",
       "      <th>clickbait</th>\n",
       "    </tr>\n",
       "  </thead>\n",
       "  <tbody>\n",
       "    <tr>\n",
       "      <th>0</th>\n",
       "      <td>Should I Get Bings</td>\n",
       "      <td>1</td>\n",
       "    </tr>\n",
       "    <tr>\n",
       "      <th>1</th>\n",
       "      <td>Which TV Female Friend Group Do You Belong In</td>\n",
       "      <td>1</td>\n",
       "    </tr>\n",
       "    <tr>\n",
       "      <th>2</th>\n",
       "      <td>The New \"Star Wars: The Force Awakens\" Trailer...</td>\n",
       "      <td>1</td>\n",
       "    </tr>\n",
       "    <tr>\n",
       "      <th>3</th>\n",
       "      <td>This Vine Of New York On \"Celebrity Big Brothe...</td>\n",
       "      <td>1</td>\n",
       "    </tr>\n",
       "    <tr>\n",
       "      <th>4</th>\n",
       "      <td>A Couple Did A Stunning Photo Shoot With Their...</td>\n",
       "      <td>1</td>\n",
       "    </tr>\n",
       "  </tbody>\n",
       "</table>\n",
       "</div>"
      ],
      "text/plain": [
       "                                            headline  clickbait\n",
       "0                                 Should I Get Bings          1\n",
       "1      Which TV Female Friend Group Do You Belong In          1\n",
       "2  The New \"Star Wars: The Force Awakens\" Trailer...          1\n",
       "3  This Vine Of New York On \"Celebrity Big Brothe...          1\n",
       "4  A Couple Did A Stunning Photo Shoot With Their...          1"
      ]
     },
     "execution_count": 170,
     "metadata": {},
     "output_type": "execute_result"
    }
   ],
   "source": [
    "import pandas as pd\n",
    "import numpy as np\n",
    "\n",
    "df = pd.read_csv(\"clickbait_data.csv\")\n",
    "print(df.columns)\n",
    "df.head(10)"
   ]
  },
  {
   "cell_type": "code",
   "execution_count": 171,
   "metadata": {},
   "outputs": [
    {
     "name": "stdout",
     "output_type": "stream",
     "text": [
      "Empty values:\n",
      "headline     0\n",
      "clickbait    0\n",
      "dtype: int64\n"
     ]
    }
   ],
   "source": [
    "# Preprocessing\n",
    "from nltk.tokenize import word_tokenize\n",
    "\n",
    "# Check for NA values - none found\n",
    "print(\"Empty values:\")\n",
    "print(df.isnull().sum())"
   ]
  },
  {
   "cell_type": "code",
   "execution_count": 172,
   "metadata": {},
   "outputs": [],
   "source": [
    "def process(line):\n",
    "    import re, string\n",
    "    \n",
    "    #To lowercase\n",
    "    line = line.lower()\n",
    "    \n",
    "    # Remove punctuation\n",
    "    line = line.translate(line.maketrans('','', string.punctuation))\n",
    "    \n",
    "    # Replace digits\n",
    "    line = re.sub('\\d+', 'num', line)\n",
    "    \n",
    "    return line"
   ]
  },
  {
   "cell_type": "code",
   "execution_count": 173,
   "metadata": {},
   "outputs": [
    {
     "data": {
      "text/html": [
       "<div>\n",
       "<style scoped>\n",
       "    .dataframe tbody tr th:only-of-type {\n",
       "        vertical-align: middle;\n",
       "    }\n",
       "\n",
       "    .dataframe tbody tr th {\n",
       "        vertical-align: top;\n",
       "    }\n",
       "\n",
       "    .dataframe thead th {\n",
       "        text-align: right;\n",
       "    }\n",
       "</style>\n",
       "<table border=\"1\" class=\"dataframe\">\n",
       "  <thead>\n",
       "    <tr style=\"text-align: right;\">\n",
       "      <th></th>\n",
       "      <th>headline</th>\n",
       "      <th>clickbait</th>\n",
       "    </tr>\n",
       "  </thead>\n",
       "  <tbody>\n",
       "    <tr>\n",
       "      <th>0</th>\n",
       "      <td>should i get bings</td>\n",
       "      <td>1</td>\n",
       "    </tr>\n",
       "    <tr>\n",
       "      <th>1</th>\n",
       "      <td>which tv female friend group do you belong in</td>\n",
       "      <td>1</td>\n",
       "    </tr>\n",
       "    <tr>\n",
       "      <th>2</th>\n",
       "      <td>the new star wars the force awakens trailer is...</td>\n",
       "      <td>1</td>\n",
       "    </tr>\n",
       "    <tr>\n",
       "      <th>3</th>\n",
       "      <td>this vine of new york on celebrity big brother...</td>\n",
       "      <td>1</td>\n",
       "    </tr>\n",
       "    <tr>\n",
       "      <th>4</th>\n",
       "      <td>a couple did a stunning photo shoot with their...</td>\n",
       "      <td>1</td>\n",
       "    </tr>\n",
       "    <tr>\n",
       "      <th>5</th>\n",
       "      <td>how to flirt with queer girls without making a...</td>\n",
       "      <td>1</td>\n",
       "    </tr>\n",
       "    <tr>\n",
       "      <th>6</th>\n",
       "      <td>num cute things to distract from your awkward ...</td>\n",
       "      <td>1</td>\n",
       "    </tr>\n",
       "    <tr>\n",
       "      <th>7</th>\n",
       "      <td>if disney princesses were from florida</td>\n",
       "      <td>1</td>\n",
       "    </tr>\n",
       "    <tr>\n",
       "      <th>8</th>\n",
       "      <td>whats a quote or lyric that best describes you...</td>\n",
       "      <td>1</td>\n",
       "    </tr>\n",
       "    <tr>\n",
       "      <th>9</th>\n",
       "      <td>natalie dormer and sam claflin play a game to ...</td>\n",
       "      <td>1</td>\n",
       "    </tr>\n",
       "  </tbody>\n",
       "</table>\n",
       "</div>"
      ],
      "text/plain": [
       "                                            headline  clickbait\n",
       "0                                 should i get bings          1\n",
       "1      which tv female friend group do you belong in          1\n",
       "2  the new star wars the force awakens trailer is...          1\n",
       "3  this vine of new york on celebrity big brother...          1\n",
       "4  a couple did a stunning photo shoot with their...          1\n",
       "5  how to flirt with queer girls without making a...          1\n",
       "6  num cute things to distract from your awkward ...          1\n",
       "7             if disney princesses were from florida          1\n",
       "8  whats a quote or lyric that best describes you...          1\n",
       "9  natalie dormer and sam claflin play a game to ...          1"
      ]
     },
     "execution_count": 173,
     "metadata": {},
     "output_type": "execute_result"
    }
   ],
   "source": [
    "for (idx, (headline, _)) in df.iterrows():\n",
    "    newline = process(headline)\n",
    "    df.iloc[idx, 0] = newline\n",
    "\n",
    "df.head(10)"
   ]
  },
  {
   "cell_type": "code",
   "execution_count": 174,
   "metadata": {},
   "outputs": [
    {
     "name": "stdout",
     "output_type": "stream",
     "text": [
      "                                                headline\n",
      "22460   australian airline qantas faces engineers strike\n",
      "30647      us and russia to sign new arms control treaty\n",
      "30720  num computex preview a decisive battle for it ...\n",
      "7646       num unbelievably rude texts from your anxiety\n",
      "2173   num perfect couple halloween costume ideas for...\n",
      "2861           what its like having ppd as a black woman\n",
      "28649  want to run  new york city marathon get out yo...\n",
      "3712   num photos that are way too true when you have...\n",
      "25025                       two tough mets but then what\n",
      "14547  these two men had a perfect solution to their ...\n",
      "                                                headline\n",
      "10767                  num things that are metal as fuck\n",
      "15930  num of the most embarrassing things people hav...\n",
      "24306     want to get more work done try a bigger screen\n",
      "2573   guys get nums boyband makeovers for their sign...\n",
      "3949   this inkblot test will determine what you hate...\n",
      "4072   num euphoric experiences for people who love s...\n",
      "6140                               are you that relative\n",
      "22750  tensions continue to rise between north korea ...\n",
      "20378  uk defence minister alludes to possible iraq t...\n",
      "22366         armstrong returns to riding with a purpose\n"
     ]
    }
   ],
   "source": [
    "# Train-test split\n",
    "from sklearn.model_selection import train_test_split\n",
    "\n",
    "df_x = df.copy()\n",
    "df_y = df_x.pop('clickbait')\n",
    "X_train, X_test, y_train, y_test = train_test_split(df_x, df_y, test_size=0.2, random_state=66)\n",
    "\n",
    "print(X_train[0:10])\n",
    "print(X_test[0:10])"
   ]
  },
  {
   "cell_type": "code",
   "execution_count": 175,
   "metadata": {},
   "outputs": [],
   "source": [
    "# Convert to numpy array\n",
    "X_train = np.squeeze(X_train.values)\n",
    "X_test = np.squeeze(X_test.values)\n",
    "y_train = y_train.values\n",
    "y_test = y_test.values"
   ]
  },
  {
   "cell_type": "code",
   "execution_count": 176,
   "metadata": {},
   "outputs": [],
   "source": [
    "from keras.preprocessing.text import Tokenizer, one_hot\n",
    "top_words = 1000\n",
    "tokenizer = Tokenizer(num_words=top_words, filters='', oov_token=True)\n",
    "\n",
    "tokenizer.fit_on_texts(X_train)\n",
    "\n",
    "X_train = tokenizer.texts_to_sequences(X_train)\n",
    "X_test = tokenizer.texts_to_sequences(X_test)"
   ]
  },
  {
   "cell_type": "code",
   "execution_count": 177,
   "metadata": {},
   "outputs": [
    {
     "name": "stdout",
     "output_type": "stream",
     "text": [
      "[[96, 1, 1, 303, 1, 450], [20, 10, 374, 3, 109, 22, 1, 799, 1], [2, 1, 1, 8, 1, 815, 9, 44, 761, 10, 762, 105, 1], [2, 1, 1, 700, 21, 12, 936], [2, 194, 461, 123, 663, 710, 9, 7, 10, 12, 1], [24, 50, 55, 763, 1, 33, 8, 203, 147], [152, 3, 566, 22, 195, 218, 1, 76, 56, 12, 1], [2, 99, 15, 14, 102, 84, 269, 62, 7, 40, 8, 1], [86, 1, 518, 117, 865, 24], [42, 86, 235, 125, 8, 194, 1, 3, 47, 1, 1]]\n",
      "\n",
      "[[2, 26, 15, 14, 1, 33, 925], [2, 6, 5, 57, 1, 26, 27, 40, 1, 18, 5, 1, 317], [152, 3, 76, 59, 253, 1, 145, 8, 1, 1], [369, 76, 148, 1, 1, 9, 47, 1, 1], [16, 1, 166, 19, 503, 24, 7, 584, 5, 57], [2, 1, 1, 9, 27, 25, 80, 1], [14, 7, 15, 1], [1, 989, 3, 776, 507, 171, 334, 10, 233, 311], [82, 1, 248, 1, 3, 898, 130, 1, 1], [1, 965, 3, 1, 17, 8, 1]]\n",
      "\n"
     ]
    }
   ],
   "source": [
    "print(X_train[0:10])\n",
    "print(\"\")\n",
    "print(X_test[0:10])\n",
    "print(\"\")"
   ]
  },
  {
   "cell_type": "code",
   "execution_count": 182,
   "metadata": {},
   "outputs": [],
   "source": [
    "from keras.preprocessing import sequence\n",
    "title_length = 100\n",
    "X_train = sequence.pad_sequences(X_train, maxlen=title_length)\n",
    "X_test = sequence.pad_sequences(X_test, maxlen=title_length)"
   ]
  },
  {
   "cell_type": "markdown",
   "metadata": {},
   "source": [
    "# Training Model"
   ]
  },
  {
   "cell_type": "code",
   "execution_count": 186,
   "metadata": {},
   "outputs": [
    {
     "name": "stdout",
     "output_type": "stream",
     "text": [
      "Model: \"sequential_4\"\n",
      "_________________________________________________________________\n",
      "Layer (type)                 Output Shape              Param #   \n",
      "=================================================================\n",
      "embedding_1 (Embedding)      (None, 100, 32)           32000     \n",
      "_________________________________________________________________\n",
      "flatten_1 (Flatten)          (None, 3200)              0         \n",
      "_________________________________________________________________\n",
      "dense_1 (Dense)              (None, 16)                51216     \n",
      "_________________________________________________________________\n",
      "dense_2 (Dense)              (None, 16)                272       \n",
      "_________________________________________________________________\n",
      "dense_3 (Dense)              (None, 1)                 17        \n",
      "=================================================================\n",
      "Total params: 83,505\n",
      "Trainable params: 83,505\n",
      "Non-trainable params: 0\n",
      "_________________________________________________________________\n",
      "None\n"
     ]
    }
   ],
   "source": [
    "from keras.models import Sequential\n",
    "from keras.layers import Dense\n",
    "from keras.layers.embeddings import Embedding\n",
    "from keras.layers import Flatten\n",
    "\n",
    "embedding_vector_length = 32\n",
    "model = Sequential()\n",
    "model.add(Embedding(top_words, embedding_vector_length, input_length=title_length))\n",
    "model.add(Flatten())\n",
    "model.add(Dense(16, activation='relu'))\n",
    "model.add(Dense(16, activation='relu'))\n",
    "model.add(Dense(1, activation='sigmoid'))\n",
    "model.compile(loss='binary_crossentropy',optimizer='adam', metrics=['accuracy'])\n",
    "print(model.summary())"
   ]
  },
  {
   "cell_type": "code",
   "execution_count": 187,
   "metadata": {},
   "outputs": [
    {
     "name": "stderr",
     "output_type": "stream",
     "text": [
      "/anaconda/envs/azureml_py36/lib/python3.6/site-packages/tensorflow_core/python/framework/indexed_slices.py:433: UserWarning: Converting sparse IndexedSlices to a dense Tensor of unknown shape. This may consume a large amount of memory.\n",
      "  \"Converting sparse IndexedSlices to a dense Tensor of unknown shape. \"\n"
     ]
    },
    {
     "name": "stdout",
     "output_type": "stream",
     "text": [
      "Train on 25600 samples, validate on 6400 samples\n",
      "Epoch 1/5\n",
      "25600/25600 [==============================] - 2s 64us/step - loss: 0.3280 - accuracy: 0.8562 - val_loss: 0.1267 - val_accuracy: 0.9495\n",
      "Epoch 2/5\n",
      "25600/25600 [==============================] - 1s 23us/step - loss: 0.1033 - accuracy: 0.9630 - val_loss: 0.1019 - val_accuracy: 0.9594\n",
      "Epoch 3/5\n",
      "25600/25600 [==============================] - 1s 25us/step - loss: 0.0845 - accuracy: 0.9695 - val_loss: 0.1033 - val_accuracy: 0.9589\n",
      "Epoch 4/5\n",
      "25600/25600 [==============================] - 1s 24us/step - loss: 0.0764 - accuracy: 0.9725 - val_loss: 0.1038 - val_accuracy: 0.9595\n",
      "Epoch 5/5\n",
      "25600/25600 [==============================] - 1s 23us/step - loss: 0.0692 - accuracy: 0.9751 - val_loss: 0.1043 - val_accuracy: 0.9597\n"
     ]
    }
   ],
   "source": [
    "history = model.fit(X_train, y_train, validation_data=(X_test, y_test), epochs=5, batch_size=128)"
   ]
  },
  {
   "cell_type": "markdown",
   "metadata": {},
   "source": [
    "# Testing Model"
   ]
  },
  {
   "cell_type": "code",
   "execution_count": 204,
   "metadata": {},
   "outputs": [
    {
     "data": {
      "image/png": "[encoded data removed]",
      "text/plain": [
       "<Figure size 432x288 with 1 Axes>"
      ]
     },
     "metadata": {},
     "output_type": "display_data"
    }
   ],
   "source": [
    "import matplotlib.pyplot as plt\n",
    "import seaborn as sns\n",
    "%matplotlib inline\n",
    "\n",
    "sns.set()\n",
    "\n",
    "acc = history.history['accuracy']\n",
    "val_acc = history.history['val_accuracy']\n",
    "epochs = range(1, len(acc)+1)\n",
    "\n",
    "plt.plot(epochs, acc, '-', label='Training accuracy')\n",
    "plt.plot(epochs, val_acc, ':', label='Validation accuracy')\n",
    "plt.title(\"Accuracy curves\")\n",
    "plt.show()"
   ]
  },
  {
   "cell_type": "code",
   "execution_count": 206,
   "metadata": {},
   "outputs": [
    {
     "data": {
      "image/png": "[encoded data removed]",
      "text/plain": [
       "<Figure size 432x288 with 1 Axes>"
      ]
     },
     "metadata": {},
     "output_type": "display_data"
    }
   ],
   "source": [
    "loss = history.history['loss']\n",
    "val_loss = history.history['val_loss']\n",
    "\n",
    "plt.plot(epochs, loss, '-', label=\"Training loss\")\n",
    "plt.plot(epochs, val_loss, '-', label=\"Validation loss\")\n",
    "plt.title(\"Loss curves\")\n",
    "plt.show()"
   ]
  },
  {
   "cell_type": "code",
   "execution_count": 208,
   "metadata": {},
   "outputs": [
    {
     "name": "stdout",
     "output_type": "stream",
     "text": [
      "Accuracy: 95.97%\n"
     ]
    }
   ],
   "source": [
    "scores = model.evaluate(X_test, y_test, verbose=0)\n",
    "print(\"Accuracy: %.2f%%\" % (scores[1] * 100))"
   ]
  },
  {
   "cell_type": "markdown",
   "metadata": {},
   "source": [
    "# Making Predictions"
   ]
  },
  {
   "cell_type": "code",
   "execution_count": 286,
   "metadata": {},
   "outputs": [],
   "source": [
    "def preprocess_line(text, tk):\n",
    "    text = process(text)\n",
    "    text = tokenizer.texts_to_sequences([text])\n",
    "    print(\"Tokenised text: \", text)\n",
    "    text = sequence.pad_sequences(text, maxlen=title_length)\n",
    "    return text\n",
    "\n",
    "def predict_input(text):\n",
    "    prediction = model.predict(preprocess_line(text, tokenizer))\n",
    "    output = \"Yes\" if (prediction > 0.5) else \"No\"\n",
    "    print(\"Likelihood of title clickbait: {}%\".format(prediction*100))\n",
    "    print(\"Is it clickbait? {}\".format(output))"
   ]
  },
  {
   "cell_type": "code",
   "execution_count": 288,
   "metadata": {},
   "outputs": [
    {
     "name": "stdin",
     "output_type": "stream",
     "text": [
      "Enter a title:  MSA 2020 - AI & Advanced Analytics\n"
     ]
    },
    {
     "name": "stdout",
     "output_type": "stream",
     "text": [
      "Tokenised text:  [[1, 2, 1, 1, 1]]\n",
      "Likelihood of title clickbait: [[24.272587]]%\n",
      "Is it clickbait? No\n"
     ]
    }
   ],
   "source": [
    "text = input(\"Enter a title: \")\n",
    "predict_input(text)"
   ]
  },
  {
   "cell_type": "code",
   "execution_count": null,
   "metadata": {},
   "outputs": [],
   "source": []
  }
 ],
 "metadata": {
  "kernelspec": {
   "display_name": "Python 3.6 - AzureML",
   "language": "python",
   "name": "python3-azureml"
  },
  "language_info": {
   "codemirror_mode": {
    "name": "ipython",
    "version": 3
   },
   "file_extension": ".py",
   "mimetype": "text/x-python",
   "name": "python",
   "nbconvert_exporter": "python",
   "pygments_lexer": "ipython3",
   "version": "3.6.9"
  },
  "nteract": {
   "version": "nteract-front-end@1.0.0"
  }
 },
 "nbformat": 4,
 "nbformat_minor": 4
}
